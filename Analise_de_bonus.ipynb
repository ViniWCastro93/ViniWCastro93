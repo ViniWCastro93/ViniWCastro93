{
  "nbformat": 4,
  "nbformat_minor": 0,
  "metadata": {
    "colab": {
      "provenance": [],
      "toc_visible": true,
      "mount_file_id": "1zrL5zZHCsWWh-Zs3iHjiigose9AfP9ep",
      "authorship_tag": "ABX9TyOAew2iyP6sWw09DVzuiMEg",
      "include_colab_link": true
    },
    "kernelspec": {
      "name": "python3",
      "display_name": "Python 3"
    },
    "language_info": {
      "name": "python"
    }
  },
  "cells": [
    {
      "cell_type": "markdown",
      "metadata": {
        "id": "view-in-github",
        "colab_type": "text"
      },
      "source": [
        "<a href=\"https://colab.research.google.com/github/ViniWCastro93/ViniWCastro93/blob/main/Analise_de_bonus.ipynb\" target=\"_parent\"><img src=\"https://colab.research.google.com/assets/colab-badge.svg\" alt=\"Open In Colab\"/></a>"
      ]
    },
    {
      "cell_type": "markdown",
      "source": [
        "**Notificação de Bonus**"
      ],
      "metadata": {
        "id": "DQilb5Yw3uuu"
      }
    },
    {
      "cell_type": "code",
      "source": [
        "#****Logica para a solução:****\n",
        "# Enviar um SMS quando  um vendedor das planilhas bater a meta de vendas de R$55.0000,00\n",
        "# Abrir os arquivos Excel no diretorio\n",
        "# Para cada Arquivo:\n",
        "# Verificar se o valor da coluna vendas no arquivo é maio que 55000\n",
        "# Se for mair que 55000 --> Enviar um SMS com o nome, Mes e o valor das vendas\n",
        "# Caso não tenha o valor maior que 55000, nõa fazer nada."
      ],
      "metadata": {
        "id": "iYZqq5PE4-Ub"
      },
      "execution_count": 3,
      "outputs": []
    },
    {
      "cell_type": "code",
      "source": [
        "#Instalaçõa da biblioteca Twilio\n",
        "\n",
        "!pip install twilio\n",
        "#Utiliza o \"!pip Install\" para efetuar a instalção de um biblioteca no Collab"
      ],
      "metadata": {
        "id": "Mm1csVq3mrM3",
        "colab": {
          "base_uri": "https://localhost:8080/"
        },
        "outputId": "34e6eaad-7eea-4a7b-c9ee-1f10fa537a17"
      },
      "execution_count": 4,
      "outputs": [
        {
          "output_type": "stream",
          "name": "stdout",
          "text": [
            "Collecting twilio\n",
            "  Downloading twilio-8.9.0-py2.py3-none-any.whl (1.8 MB)\n",
            "\u001b[?25l     \u001b[90m━━━━━━━━━━━━━━━━━━━━━━━━━━━━━━━━━━━━━━━━\u001b[0m \u001b[32m0.0/1.8 MB\u001b[0m \u001b[31m?\u001b[0m eta \u001b[36m-:--:--\u001b[0m\r\u001b[2K     \u001b[91m╸\u001b[0m\u001b[90m━━━━━━━━━━━━━━━━━━━━━━━━━━━━━━━━━━━━━━━\u001b[0m \u001b[32m0.0/1.8 MB\u001b[0m \u001b[31m1.4 MB/s\u001b[0m eta \u001b[36m0:00:02\u001b[0m\r\u001b[2K     \u001b[91m━━━━\u001b[0m\u001b[91m╸\u001b[0m\u001b[90m━━━━━━━━━━━━━━━━━━━━━━━━━━━━━━━━━━━\u001b[0m \u001b[32m0.2/1.8 MB\u001b[0m \u001b[31m3.4 MB/s\u001b[0m eta \u001b[36m0:00:01\u001b[0m\r\u001b[2K     \u001b[91m━━━━━━━━━━━━━━━━━━━━━━━━━━━━━━━━━━━━━━━\u001b[0m\u001b[91m╸\u001b[0m \u001b[32m1.8/1.8 MB\u001b[0m \u001b[31m20.1 MB/s\u001b[0m eta \u001b[36m0:00:01\u001b[0m\r\u001b[2K     \u001b[90m━━━━━━━━━━━━━━━━━━━━━━━━━━━━━━━━━━━━━━━━\u001b[0m \u001b[32m1.8/1.8 MB\u001b[0m \u001b[31m17.5 MB/s\u001b[0m eta \u001b[36m0:00:00\u001b[0m\n",
            "\u001b[?25hRequirement already satisfied: pytz in /usr/local/lib/python3.10/dist-packages (from twilio) (2023.3.post1)\n",
            "Requirement already satisfied: requests>=2.0.0 in /usr/local/lib/python3.10/dist-packages (from twilio) (2.31.0)\n",
            "Requirement already satisfied: PyJWT<3.0.0,>=2.0.0 in /usr/lib/python3/dist-packages (from twilio) (2.3.0)\n",
            "Requirement already satisfied: aiohttp>=3.8.4 in /usr/local/lib/python3.10/dist-packages (from twilio) (3.8.5)\n",
            "Collecting aiohttp-retry>=2.8.3 (from twilio)\n",
            "  Downloading aiohttp_retry-2.8.3-py3-none-any.whl (9.8 kB)\n",
            "Requirement already satisfied: attrs>=17.3.0 in /usr/local/lib/python3.10/dist-packages (from aiohttp>=3.8.4->twilio) (23.1.0)\n",
            "Requirement already satisfied: charset-normalizer<4.0,>=2.0 in /usr/local/lib/python3.10/dist-packages (from aiohttp>=3.8.4->twilio) (3.2.0)\n",
            "Requirement already satisfied: multidict<7.0,>=4.5 in /usr/local/lib/python3.10/dist-packages (from aiohttp>=3.8.4->twilio) (6.0.4)\n",
            "Requirement already satisfied: async-timeout<5.0,>=4.0.0a3 in /usr/local/lib/python3.10/dist-packages (from aiohttp>=3.8.4->twilio) (4.0.3)\n",
            "Requirement already satisfied: yarl<2.0,>=1.0 in /usr/local/lib/python3.10/dist-packages (from aiohttp>=3.8.4->twilio) (1.9.2)\n",
            "Requirement already satisfied: frozenlist>=1.1.1 in /usr/local/lib/python3.10/dist-packages (from aiohttp>=3.8.4->twilio) (1.4.0)\n",
            "Requirement already satisfied: aiosignal>=1.1.2 in /usr/local/lib/python3.10/dist-packages (from aiohttp>=3.8.4->twilio) (1.3.1)\n",
            "Requirement already satisfied: idna<4,>=2.5 in /usr/local/lib/python3.10/dist-packages (from requests>=2.0.0->twilio) (3.4)\n",
            "Requirement already satisfied: urllib3<3,>=1.21.1 in /usr/local/lib/python3.10/dist-packages (from requests>=2.0.0->twilio) (2.0.4)\n",
            "Requirement already satisfied: certifi>=2017.4.17 in /usr/local/lib/python3.10/dist-packages (from requests>=2.0.0->twilio) (2023.7.22)\n",
            "Installing collected packages: aiohttp-retry, twilio\n",
            "Successfully installed aiohttp-retry-2.8.3 twilio-8.9.0\n"
          ]
        }
      ]
    },
    {
      "cell_type": "code",
      "source": [
        "# Importação da Biblioteca pandas\n",
        "\n",
        "import pandas as pd\n",
        "#\"Import\" para efetuar a importaçõa da biblioteca e o \"as\" para criar a abreviação"
      ],
      "metadata": {
        "id": "a1DV_aQ4261b"
      },
      "execution_count": 5,
      "outputs": []
    },
    {
      "cell_type": "code",
      "source": [
        "#Importação da biblioteca Twilio\n",
        "\n",
        "from twilio.rest import Client\n",
        "#\"from\" é utilizado para indicar o local (de onde)"
      ],
      "metadata": {
        "id": "VxCjzlO-mdCY"
      },
      "execution_count": 6,
      "outputs": []
    },
    {
      "cell_type": "code",
      "source": [
        "#Login na API Twilio\n",
        "\n",
        "account_sid = \"AC25dcdff126b33e1881fcbe4b6aeb7801\"\n",
        "auth_token  = \"2e58b8d5a9e898ad025025aa8eaeddba\"\n",
        "\n",
        "client = Client(account_sid, auth_token)"
      ],
      "metadata": {
        "id": "8vUoG8ODmZuL"
      },
      "execution_count": 7,
      "outputs": []
    },
    {
      "cell_type": "code",
      "source": [
        "#Criando lista de meses\n",
        "\n",
        "lista_meses = ['janeiro', 'fevereiro', 'março', 'abril', 'maio', 'junho']\n",
        "# Criada a variavel lista_meses. as listas com os nomes de meses são criadas entre conchetes \"[]\"."
      ],
      "metadata": {
        "id": "U8AbarNCpgIj"
      },
      "execution_count": 8,
      "outputs": []
    },
    {
      "cell_type": "code",
      "source": [
        "#Analise e filtro de dados\n",
        "\n",
        "for mes in lista_meses:\n",
        "# \"for\"para cada mes 'in'dentro de lista_meses :(ecexutar). Sempre utilizar : para esse codigo. Onde segue por indentação.\n",
        "\n",
        "  tabela_vendas = pd.read_excel(f'drive/MyDrive/Aquivos para COLLAB/{mes}.xlsx')\n",
        "  #\"pd.read_excel\" é utilizado para ler o arquivo em excel por pandas. '()' é utilizado para criar informar o nome do arquivo,\n",
        "  #enqunato 'f' formata a string com algo dinamico, e esse dinamico tem que estar dentro de {}\n",
        "\n",
        "  if(tabela_vendas['Vendas']>55000).any(): #se adiciona ().any para identificar se algum valor é maior.\n",
        "#se (IF), variavel (tabela_vendas) na coluna Vendas (['Vendas']), for maior (>) que 55000\n",
        "    vendedor = tabela_vendas.loc [tabela_vendas['Vendas']>55000, 'Vendedor'].values[0] #.loc serve para localizar algo na tabela e dentro do conchete [], no cas oa condição.\n",
        "    vendas = tabela_vendas.loc [tabela_vendas['Vendas']>55000, 'Vendas'].values[0]\n",
        "    print (f'No Mês de {mes} alguém bateu a meta. Vendedor: {vendedor}, Vendas: {vendas}')"
      ],
      "metadata": {
        "id": "UXH3dyXkp-uu",
        "colab": {
          "base_uri": "https://localhost:8080/"
        },
        "outputId": "5d582a66-39cd-4770-d397-a3c9eefdfbb7"
      },
      "execution_count": 9,
      "outputs": [
        {
          "output_type": "stream",
          "name": "stdout",
          "text": [
            "No Mês de maio alguém bateu a meta. Vendedor: Hash, Vendas: 57312\n"
          ]
        }
      ]
    },
    {
      "cell_type": "code",
      "source": [
        "#Envio de SMS\n",
        "message = client.messages.create(\n",
        "    to=\"+5515997086309\",\n",
        "    from_=\"+14423334812\",\n",
        "    body=f'No Mês de {mes} alguém bateu a meta. Vendedor: {vendedor}, Vendas: {vendas}')\n",
        "\n",
        "print(message.sid)"
      ],
      "metadata": {
        "colab": {
          "base_uri": "https://localhost:8080/",
          "height": 390
        },
        "id": "giOuMkGmmU_V",
        "outputId": "8c94d979-58bb-47a8-80eb-7699bdc5bd20"
      },
      "execution_count": 11,
      "outputs": [
        {
          "output_type": "error",
          "ename": "TwilioRestException",
          "evalue": "ignored",
          "traceback": [
            "\u001b[0;31m---------------------------------------------------------------------------\u001b[0m",
            "\u001b[0;31mTwilioRestException\u001b[0m                       Traceback (most recent call last)",
            "\u001b[0;32m<ipython-input-11-9f5bb3e040d7>\u001b[0m in \u001b[0;36m<cell line: 2>\u001b[0;34m()\u001b[0m\n\u001b[1;32m      1\u001b[0m \u001b[0;31m#Envio de SMS\u001b[0m\u001b[0;34m\u001b[0m\u001b[0;34m\u001b[0m\u001b[0m\n\u001b[0;32m----> 2\u001b[0;31m message = client.messages.create(\n\u001b[0m\u001b[1;32m      3\u001b[0m     \u001b[0mto\u001b[0m\u001b[0;34m=\u001b[0m\u001b[0;34m\"+5515997086309\"\u001b[0m\u001b[0;34m,\u001b[0m\u001b[0;34m\u001b[0m\u001b[0;34m\u001b[0m\u001b[0m\n\u001b[1;32m      4\u001b[0m     \u001b[0mfrom_\u001b[0m\u001b[0;34m=\u001b[0m\u001b[0;34m\"+14423334812\"\u001b[0m\u001b[0;34m,\u001b[0m\u001b[0;34m\u001b[0m\u001b[0;34m\u001b[0m\u001b[0m\n\u001b[1;32m      5\u001b[0m     body=f'No Mês de {mes} alguém bateu a meta. Vendedor: {vendedor}, Vendas: {vendas}')\n",
            "\u001b[0;32m/usr/local/lib/python3.10/dist-packages/twilio/rest/api/v2010/account/message/__init__.py\u001b[0m in \u001b[0;36mcreate\u001b[0;34m(self, to, status_callback, application_sid, max_price, provide_feedback, attempt, validity_period, force_delivery, content_retention, address_retention, smart_encoded, persistent_action, shorten_urls, schedule_type, send_at, send_as_mms, content_variables, tags, risk_check, from_, messaging_service_sid, body, media_url, content_sid)\u001b[0m\n\u001b[1;32m    563\u001b[0m         )\n\u001b[1;32m    564\u001b[0m \u001b[0;34m\u001b[0m\u001b[0m\n\u001b[0;32m--> 565\u001b[0;31m         payload = self._version.create(\n\u001b[0m\u001b[1;32m    566\u001b[0m             \u001b[0mmethod\u001b[0m\u001b[0;34m=\u001b[0m\u001b[0;34m\"POST\"\u001b[0m\u001b[0;34m,\u001b[0m\u001b[0;34m\u001b[0m\u001b[0;34m\u001b[0m\u001b[0m\n\u001b[1;32m    567\u001b[0m             \u001b[0muri\u001b[0m\u001b[0;34m=\u001b[0m\u001b[0mself\u001b[0m\u001b[0;34m.\u001b[0m\u001b[0m_uri\u001b[0m\u001b[0;34m,\u001b[0m\u001b[0;34m\u001b[0m\u001b[0;34m\u001b[0m\u001b[0m\n",
            "\u001b[0;32m/usr/local/lib/python3.10/dist-packages/twilio/base/version.py\u001b[0m in \u001b[0;36mcreate\u001b[0;34m(self, method, uri, params, data, headers, auth, timeout, allow_redirects)\u001b[0m\n\u001b[1;32m    463\u001b[0m         )\n\u001b[1;32m    464\u001b[0m \u001b[0;34m\u001b[0m\u001b[0m\n\u001b[0;32m--> 465\u001b[0;31m         \u001b[0;32mreturn\u001b[0m \u001b[0mself\u001b[0m\u001b[0;34m.\u001b[0m\u001b[0m_parse_create\u001b[0m\u001b[0;34m(\u001b[0m\u001b[0mmethod\u001b[0m\u001b[0;34m,\u001b[0m \u001b[0muri\u001b[0m\u001b[0;34m,\u001b[0m \u001b[0mresponse\u001b[0m\u001b[0;34m)\u001b[0m\u001b[0;34m\u001b[0m\u001b[0;34m\u001b[0m\u001b[0m\n\u001b[0m\u001b[1;32m    466\u001b[0m \u001b[0;34m\u001b[0m\u001b[0m\n\u001b[1;32m    467\u001b[0m     async def create_async(\n",
            "\u001b[0;32m/usr/local/lib/python3.10/dist-packages/twilio/base/version.py\u001b[0m in \u001b[0;36m_parse_create\u001b[0;34m(self, method, uri, response)\u001b[0m\n\u001b[1;32m    434\u001b[0m         \"\"\"\n\u001b[1;32m    435\u001b[0m         \u001b[0;32mif\u001b[0m \u001b[0mresponse\u001b[0m\u001b[0;34m.\u001b[0m\u001b[0mstatus_code\u001b[0m \u001b[0;34m<\u001b[0m \u001b[0;36m200\u001b[0m \u001b[0;32mor\u001b[0m \u001b[0mresponse\u001b[0m\u001b[0;34m.\u001b[0m\u001b[0mstatus_code\u001b[0m \u001b[0;34m>=\u001b[0m \u001b[0;36m300\u001b[0m\u001b[0;34m:\u001b[0m\u001b[0;34m\u001b[0m\u001b[0;34m\u001b[0m\u001b[0m\n\u001b[0;32m--> 436\u001b[0;31m             \u001b[0;32mraise\u001b[0m \u001b[0mself\u001b[0m\u001b[0;34m.\u001b[0m\u001b[0mexception\u001b[0m\u001b[0;34m(\u001b[0m\u001b[0mmethod\u001b[0m\u001b[0;34m,\u001b[0m \u001b[0muri\u001b[0m\u001b[0;34m,\u001b[0m \u001b[0mresponse\u001b[0m\u001b[0;34m,\u001b[0m \u001b[0;34m\"Unable to create record\"\u001b[0m\u001b[0;34m)\u001b[0m\u001b[0;34m\u001b[0m\u001b[0;34m\u001b[0m\u001b[0m\n\u001b[0m\u001b[1;32m    437\u001b[0m \u001b[0;34m\u001b[0m\u001b[0m\n\u001b[1;32m    438\u001b[0m         \u001b[0;32mreturn\u001b[0m \u001b[0mjson\u001b[0m\u001b[0;34m.\u001b[0m\u001b[0mloads\u001b[0m\u001b[0;34m(\u001b[0m\u001b[0mresponse\u001b[0m\u001b[0;34m.\u001b[0m\u001b[0mtext\u001b[0m\u001b[0;34m)\u001b[0m\u001b[0;34m\u001b[0m\u001b[0;34m\u001b[0m\u001b[0m\n",
            "\u001b[0;31mTwilioRestException\u001b[0m: HTTP 401 error: Unable to create record: Authenticate"
          ]
        }
      ]
    }
  ]
}