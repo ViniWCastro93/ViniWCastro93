{
  "nbformat": 4,
  "nbformat_minor": 0,
  "metadata": {
    "colab": {
      "provenance": [],
      "authorship_tag": "ABX9TyPjcswgdOKLZ+A+ip408Z2n",
      "include_colab_link": true
    },
    "kernelspec": {
      "name": "python3",
      "display_name": "Python 3"
    },
    "language_info": {
      "name": "python"
    }
  },
  "cells": [
    {
      "cell_type": "markdown",
      "metadata": {
        "id": "view-in-github",
        "colab_type": "text"
      },
      "source": [
        "<a href=\"https://colab.research.google.com/github/ViniWCastro93/ViniWCastro93/blob/main/Nocoes_Basicas.ipynb\" target=\"_parent\"><img src=\"https://colab.research.google.com/assets/colab-badge.svg\" alt=\"Open In Colab\"/></a>"
      ]
    },
    {
      "cell_type": "code",
      "execution_count": 4,
      "metadata": {
        "colab": {
          "base_uri": "https://localhost:8080/"
        },
        "id": "tmx9gWlo4TE9",
        "outputId": "f1186326-2111-4a00-898b-d78f97025fcf"
      },
      "outputs": [
        {
          "output_type": "stream",
          "name": "stdout",
          "text": [
            "Ola Mundo!\n"
          ]
        }
      ],
      "source": [
        "print ('Ola Mundo!') # Esse vem imprimir em ingles, a informação é passada dentro do parentedes () sem com aspas ''."
      ]
    },
    {
      "cell_type": "code",
      "source": [
        "# Dentro do comando print é possivel efetuar calculos\n",
        "# As opeações em Python são utilizados os seguites operadores:\n",
        "\n",
        "  # + para adição, Realiza a soma entre operandos - Adiciona o sinal de positivo ao número\n",
        "\n",
        "  # - para subtração, Realiza a subtração entre operandos - Adiciona o sinal de negativo ao número\n",
        "\n",
        "  # * para multiplicação, Realiza a multiplicação entre operandos\n",
        "\n",
        "  # / para divisão, Realiza a divisão entre operandos\n",
        "\n",
        "  # // para divisão inteira, Realiza a divisão entre operandos e a parte decimal do resultado\n",
        "\n",
        "  # % para módulo, Retorna o resto da divisão entre operandos\n",
        "\n",
        "  # ** para exponeciação, Retorna o resto da divisão entre operandos\n",
        "\n",
        "numero_1 = 5  # Aqui temos uma variavel, um nome que armazena um valor\n",
        "numero_2 = 2  # o Sinal de = se le recebe\n",
        "\n",
        "soma = numero_1 + numero_2 # Aqui temos um exemplo de uma variavel, cuja o valor  é um calculo das duas variaveis anteriores\n",
        "subtracao = numero_1 - numero_2\n",
        "multiplicacao = numero_1 * numero_2\n",
        "divisao = numero_1 / numero_2\n",
        "divisao_inteira = numero_1 // numero_2\n",
        "modulo = numero_1 % numero_2\n",
        "exponenciacao = numero_1 ** numero_2\n",
        "\n",
        "print('Valor:',soma) # Aqui temos uma comanda de print, onde inserimos um texto com : no final, virgula, e com sequencia do resultado da variavel soma.\n",
        "print(subtracao)\n",
        "print(multiplicacao)\n",
        "print(divisao)\n",
        "print(divisao_inteira)\n",
        "print(modulo)\n",
        "print(exponenciacao)"
      ],
      "metadata": {
        "colab": {
          "base_uri": "https://localhost:8080/"
        },
        "id": "Bg4SMYaE4_dF",
        "outputId": "a35a03a0-84dd-4619-df49-5fc340d67fd5"
      },
      "execution_count": 19,
      "outputs": [
        {
          "output_type": "stream",
          "name": "stdout",
          "text": [
            "Valor: 7\n",
            "3\n",
            "10\n",
            "2.5\n",
            "2\n",
            "1\n",
            "25\n"
          ]
        }
      ]
    },
    {
      "cell_type": "code",
      "source": [
        "# Comparação:\n",
        "# Para execurtarmos uma comparação, devamos utlizar o comando if\n",
        "\n",
        "vendas = 1000\n",
        "\n",
        "if vendas > 1000 :  # Sinal de maior >, Sinal de menor <\n",
        "  print (\"Ganhou Bonus\")\n",
        "else: # utilizado para caso contrario, ou se, outra possibilidade\n",
        "  print (\"Não ganhou BONUS!\")"
      ],
      "metadata": {
        "colab": {
          "base_uri": "https://localhost:8080/"
        },
        "id": "6LzTBm4b5UYr",
        "outputId": "d30a6b7f-6b0f-436b-b64c-865d7ebde9b1"
      },
      "execution_count": 21,
      "outputs": [
        {
          "output_type": "stream",
          "name": "stdout",
          "text": [
            "Não ganhou BONUS!\n"
          ]
        }
      ]
    },
    {
      "cell_type": "code",
      "source": [
        "# Criando Listas\n",
        "# Listas são criadas sempre dentro de []\n",
        "\n",
        "listaprodutos = [\"iphone\", \"ipad\", \"macbook\"] #Os valores podem ser textos ou numeros, sempre separados por \",\".\n",
        "\n",
        "# Utiliznado \"for\", que serve como sintax \"para\" e \"in\" = em.\n",
        "\n",
        "for produto in listaprodutos:  # Para cada produto na \"listaprodutos\"  ** A palavra produto se torna uma variavel dos itens da lista **\n",
        "  print (produto)              # Me mostre o nome do produto.\n",
        "\n",
        "  #print (produto * 2)          # Também é possivel fazer calculos **Remova o # para executar o codigo**"
      ],
      "metadata": {
        "colab": {
          "base_uri": "https://localhost:8080/"
        },
        "id": "Xf42VpAH-diH",
        "outputId": "278f359b-c3d2-4974-ee36-e313e40f67b2"
      },
      "execution_count": 27,
      "outputs": [
        {
          "output_type": "stream",
          "name": "stdout",
          "text": [
            "iphone\n",
            "iphoneiphone\n",
            "ipad\n",
            "ipadipad\n",
            "macbook\n",
            "macbookmacbook\n"
          ]
        }
      ]
    },
    {
      "cell_type": "code",
      "source": [
        "listaprodutos = [\"iphone\", \"ipad\", \"macbook\"]\n",
        "listaprecos = [1000, 2000, 5000]\n",
        "\n",
        "# Criando uma variavel com numeros, posso executar o print em for junto a um claculo\n",
        "\n",
        "for item in listaprecos:\n",
        "  print (item * 2)"
      ],
      "metadata": {
        "colab": {
          "base_uri": "https://localhost:8080/"
        },
        "id": "OU8HDm3lBdrS",
        "outputId": "bfc9ffd7-617e-4629-8ff2-fd0c670d2be4"
      },
      "execution_count": 31,
      "outputs": [
        {
          "output_type": "stream",
          "name": "stdout",
          "text": [
            "2000\n",
            "4000\n",
            "10000\n"
          ]
        }
      ]
    },
    {
      "cell_type": "code",
      "source": [
        "# Executando um cogigo varias vezes com a função \"range\"\n",
        "\n",
        "listaprodutos = [\"iphone\", \"ipad\", \"macbook\"]\n",
        "listaprecos = [1000, 2000, 5000]\n",
        "\n",
        "for i in range (10): # O comand range, faz com que o codigo da tabulagem, seja executado no numero de vezes que voce define no ().\n",
        "  print ('Vendas de Sucesso')"
      ],
      "metadata": {
        "colab": {
          "base_uri": "https://localhost:8080/"
        },
        "id": "GnsoAgHuCYj2",
        "outputId": "ce3feab1-e3ff-430e-802c-4ab6ffd4c55b"
      },
      "execution_count": 33,
      "outputs": [
        {
          "output_type": "stream",
          "name": "stdout",
          "text": [
            "Vendas de Sucesso\n",
            "Vendas de Sucesso\n",
            "Vendas de Sucesso\n",
            "Vendas de Sucesso\n",
            "Vendas de Sucesso\n",
            "Vendas de Sucesso\n",
            "Vendas de Sucesso\n",
            "Vendas de Sucesso\n",
            "Vendas de Sucesso\n",
            "Vendas de Sucesso\n"
          ]
        }
      ]
    }
  ]
}